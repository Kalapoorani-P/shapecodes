{
 "cells": [
  {
   "cell_type": "code",
   "execution_count": null,
   "metadata": {},
   "outputs": [],
   "source": [
    "import cv2 \n",
    "import numpy as np\n",
    "import matplotlib.pyplot as plt \n",
    "import csv \n",
    "import uuid \n",
    "import os"
   ]
  },
  {
   "cell_type": "code",
   "execution_count": null,
   "metadata": {},
   "outputs": [],
   "source": [
    "fields = ['ClassName','X','Y','Width','Height']"
   ]
  },
  {
   "cell_type": "code",
   "execution_count": 3,
   "metadata": {},
   "outputs": [],
   "source": [
    "def get_coordinate(shape):\n",
    "    if shape == \"circle\":\n",
    "        x,y = np.random.randint(150,300,size=[2])\n",
    "        radius = np.random.randint(50,110)\n",
    "        coordinate = (x,y,radius)\n",
    "        \n",
    "    elif shape == \"rectangle\":\n",
    "        x1,y1 = np.random.randint(60,300,size=[2])\n",
    "        w = np.random.randint(90,200)\n",
    "        h = np.random.randint(80,150)\n",
    "        x = (x1,y1);y = (x1+w,y1+h)\n",
    "        coordinate = (x,y)\n",
    "    elif shape == \"square\":\n",
    "        x1,y1 = np.random.randint(60,300,size=[2])\n",
    "        x = (x1,x1);y = (x1+y1,x1+y1) \n",
    "        coordinate = (x,y)\n",
    "    elif shape == \"triangle\":\n",
    "        p1= np.random.randint(100,250,size=2)\n",
    "        p2 = p1[0]-70,p1[1]+70\n",
    "        p3 = p2[1] + 50 , p1[0] + 70\n",
    "        pnts = np.array([p1,p2,p3])\n",
    "        coordinate = pnts\n",
    "    elif shape == \"star\":\n",
    "        x,y = np.random.randint(150,250,size=2)\n",
    "        coordinate = (x,y)\n",
    "\n",
    "    return coordinate\n",
    "\n"
   ]
  },
  {
   "cell_type": "code",
   "execution_count": 4,
   "metadata": {},
   "outputs": [],
   "source": [
    "def get_bounding_box_values(image):\n",
    "    gray = cv2.cvtColor(image,cv2.COLOR_BGR2GRAY)\n",
    "    cont,_ = cv2.findContours(gray,cv2.RETR_EXTERNAL,cv2.CHAIN_APPROX_SIMPLE)\n",
    "    bx,by,w,h = cv2.boundingRect(cont[0])\n",
    "  \n",
    "    return bx,by,w,h\n",
    "    "
   ]
  },
  {
   "cell_type": "code",
   "execution_count": 5,
   "metadata": {},
   "outputs": [],
   "source": [
    "def generate_shape(shape):\n",
    "    colour = np.random.randint(100,255,size=3)\n",
    "    # uuID = str(uuid.uuid4())\n",
    "    img = np.zeros((512,512,3),np.uint8)\n",
    "    if shape == \"circle\":\n",
    "        coord_x,coord_y,radius = get_coordinate(shape)\n",
    "        cv2.circle(img,(coord_x,coord_y),radius,(int(colour[0]),int(colour[1]),int(colour[-1])),thickness=-1)\n",
    "        bx,by,w,h = get_bounding_box_values(img)\n",
    "        cv2.rectangle(img,(bx,by),(bx+w,by+h),(0,255,0),2)\n",
    "        \n",
    "    elif shape == \"rectangle\":\n",
    "        coord_x,coord_y = get_coordinate(shape)\n",
    "        cv2.rectangle(img,coord_x,coord_y,(int(colour[0]),int(colour[1]),int(colour[-1])),thickness=-1)\n",
    "        bx,by,w,h = get_bounding_box_values(img)\n",
    "        cv2.rectangle(img,(bx,by),(bx+w,by+h),(0,255,0),2)\n",
    "        # plt.imshow(img)\n",
    "    elif shape == \"square\":\n",
    "        coord_x,coord_y = get_coordinate(shape)\n",
    "        cv2.rectangle(img,coord_x,coord_y,(int(colour[0]),int(colour[1]),int(colour[-1])),thickness=-1)\n",
    "        bx,by,w,h = get_bounding_box_values(img)\n",
    "        cv2.rectangle(img,(bx,by),(bx+w,by+h),(0,255,0),2)\n",
    "        \n",
    "    elif shape == \"triangle\":\n",
    "        points = get_coordinate(shape)\n",
    "        cv2.fillPoly(img,[points],(int(colour[0]),int(colour[1]),int(colour[-1])))\n",
    "        bx,by,w,h = get_bounding_box_values(img)\n",
    "        cv2.rectangle(img,(bx,by),(bx+w,by+h),(0,255,0),2)\n",
    "\n",
    "    elif shape == \"star\":\n",
    "        x,y = get_coordinate(shape)\n",
    "        img=cv2.line (img, (x, y), (x+100, y-100), (0,0,255), 10) \n",
    "        img-cv2.line (img, (x+100,y-100), (x+100, y+50), (0,0,255), 10)\n",
    "        img=cv2.line (img, (x+100,y+50), (x-10, y-95), (0,0,255), 10)\n",
    "        img-cv2.line (img, (x-10,y-95), (x+150,y-10), (0,0,255), 10) \n",
    "        img=cv2.line (img, (x,y), (x+150, y-10), (0,0,255), 10)\n",
    "        height, width = img.shape[:2]\n",
    "        center = (width/2, height/2)\n",
    "        a = np.random.randint(20,181)\n",
    "        scale = np.random.uniform(0.5,1.5)\n",
    "        rotate_matrix = cv2.getRotationMatrix2D(center=center, angle=a, scale=scale)\n",
    "        rotated_image = cv2.warpAffine(src=img, M=rotate_matrix, dsize=(width, height))\n",
    "        gray = cv2.cvtColor(rotated_image,cv2.COLOR_BGR2GRAY)\n",
    "        cont,_ = cv2.findContours(gray,cv2.RETR_EXTERNAL,cv2.CHAIN_APPROX_SIMPLE)\n",
    "        cv2.drawContours(rotated_image,cont, -1, (int(colour[0]),int(colour[1]),int(colour[-1])), thickness=cv2.FILLED)\n",
    "        # print(cont[0].dtype)\n",
    "        # bx,by,w,h = cv2.boundingRect(cont[0])\n",
    "\n",
    "        # cv2.rectangle(rotated_image,(bx,by),(bx+w,by+h),(0,255,0),2)\n",
    "        img = rotated_image\n",
    "        # plt.imshow(rotated_image)\n",
    "    elif shape == \"bg\":\n",
    "        img = img\n",
    "    path = \"/home/local/ZOHOCORP/kala-pt5650/programs/NeuralNetwork-Classifier/Shape-Classifier -CNN/ShapeData/Train/\"\n",
    "    # file_name = uuID+\".csv\"\n",
    "    # # if shape!=\"bg\":\n",
    "    # #     data = [shape,bx,by,w,h]\n",
    "    # # else:\n",
    "    # #     data = [shape,None,None,None,None]\n",
    "    # with open(os.path.join(path,file_name),'w') as csv_file:\n",
    "    #     csvWrite = csv.writer(csv_file)\n",
    "    #     csvWrite.writerow(fields)\n",
    "    #     csvWrite.writerow(data)\n",
    "    # cv2.imwrite(path+uuID+\".jpg\",img)\n",
    "    return img,data \n",
    "    \n",
    "    "
   ]
  },
  {
   "cell_type": "code",
   "execution_count": 6,
   "metadata": {},
   "outputs": [],
   "source": [
    "num_images = 2540\n",
    "shapes = [\"circle\",\"rectangle\",\"square\",\"triangle\",\"bg\",\"star\"]\n",
    "path = \"/home/local/ZOHOCORP/kala-pt5650/programs/New_ObjClassify/FourShapeData/Train/\"\n"
   ]
  },
  {
   "cell_type": "code",
   "execution_count": 7,
   "metadata": {},
   "outputs": [
    {
     "ename": "NameError",
     "evalue": "name 'data' is not defined",
     "output_type": "error",
     "traceback": [
      "\u001b[0;31m---------------------------------------------------------------------------\u001b[0m",
      "\u001b[0;31mNameError\u001b[0m                                 Traceback (most recent call last)",
      "Cell \u001b[0;32mIn [7], line 8\u001b[0m\n\u001b[1;32m      6\u001b[0m file_name \u001b[38;5;241m=\u001b[39m uuID\u001b[38;5;241m+\u001b[39m\u001b[38;5;124m\"\u001b[39m\u001b[38;5;124m.csv\u001b[39m\u001b[38;5;124m\"\u001b[39m\n\u001b[1;32m      7\u001b[0m \u001b[38;5;28;01mfor\u001b[39;00m shp \u001b[38;5;129;01min\u001b[39;00m four_shape:\n\u001b[0;32m----> 8\u001b[0m     img,data \u001b[38;5;241m=\u001b[39m generate_shape(shp)\n\u001b[1;32m      9\u001b[0m     img_list\u001b[38;5;241m.\u001b[39mappend(img)\n\u001b[1;32m     10\u001b[0m     data_list\u001b[38;5;241m.\u001b[39mappend(data)\n",
      "Cell \u001b[0;32mIn [5], line 64\u001b[0m, in \u001b[0;36mgenerate_shape\u001b[0;34m(shape)\u001b[0m\n\u001b[1;32m     53\u001b[0m path \u001b[38;5;241m=\u001b[39m \u001b[38;5;124m\"\u001b[39m\u001b[38;5;124m/home/local/ZOHOCORP/kala-pt5650/programs/NeuralNetwork-Classifier/Shape-Classifier -CNN/ShapeData/Train/\u001b[39m\u001b[38;5;124m\"\u001b[39m\n\u001b[1;32m     54\u001b[0m \u001b[38;5;66;03m# file_name = uuID+\".csv\"\u001b[39;00m\n\u001b[1;32m     55\u001b[0m \u001b[38;5;66;03m# # if shape!=\"bg\":\u001b[39;00m\n\u001b[1;32m     56\u001b[0m \u001b[38;5;66;03m# #     data = [shape,bx,by,w,h]\u001b[39;00m\n\u001b[0;32m   (...)\u001b[0m\n\u001b[1;32m     62\u001b[0m \u001b[38;5;66;03m#     csvWrite.writerow(data)\u001b[39;00m\n\u001b[1;32m     63\u001b[0m \u001b[38;5;66;03m# cv2.imwrite(path+uuID+\".jpg\",img)\u001b[39;00m\n\u001b[0;32m---> 64\u001b[0m \u001b[38;5;28;01mreturn\u001b[39;00m img,\u001b[43mdata\u001b[49m\n",
      "\u001b[0;31mNameError\u001b[0m: name 'data' is not defined"
     ]
    }
   ],
   "source": [
    "for i in range(num_images):\n",
    "    img_list = []\n",
    "    data_list = []\n",
    "    four_shape = np.random.choice(shapes,4)\n",
    "    uuID = str(uuid.uuid4())\n",
    "    file_name = uuID+\".csv\"\n",
    "    for shp in four_shape:\n",
    "        img,data = generate_shape(shp)\n",
    "        img_list.append(img)\n",
    "        data_list.append(data)\n",
    "    \n",
    "    ab = np.concatenate([img_list[0],img_list[1]],axis=1)\n",
    "    cd = np.concatenate([img_list[2],img_list[3]],axis=1)\n",
    "    img = np.concatenate([ab,cd],axis = 0)\n",
    "    datas = [ data_list[0]] \n",
    "    c=1\n",
    "    for shape,x,y,w,h in data_list[1:]:\n",
    "        if shape!=\"bg\":\n",
    "            if c==1 :\n",
    "                x+=512 \n",
    "            elif c==2 :\n",
    "                y+=512 \n",
    "            elif c==3:\n",
    "                x+=512;y+=512 \n",
    "            datas.append([shape,x,y,w,h])\n",
    "            print(x,y,w,h)\n",
    "            cv2.rectangle(img,(x,y),(x+w,y+h),(255,0,0),2)\n",
    "            c+=1\n",
    "        else:\n",
    "            c+=1\n",
    "            datas.append([shape,x,y,w,h])\n",
    "    # print(datas)\n",
    "    # plt.imshow(img)\n",
    "        \n",
    "    with open(os.path.join(path,file_name),'w') as csv_file:\n",
    "        csvWrite = csv.writer(csv_file)\n",
    "        csvWrite.writerow(fields)\n",
    "        csvWrite.writerows(datas)\n",
    "    cv2.imwrite(path+uuID+\".jpg\",img)"
   ]
  },
  {
   "cell_type": "code",
   "execution_count": null,
   "metadata": {},
   "outputs": [],
   "source": []
  },
  {
   "cell_type": "code",
   "execution_count": null,
   "metadata": {},
   "outputs": [],
   "source": []
  }
 ],
 "metadata": {
  "kernelspec": {
   "display_name": "Python 3.9.0 ('venv3.9')",
   "language": "python",
   "name": "python3"
  },
  "language_info": {
   "codemirror_mode": {
    "name": "ipython",
    "version": 3
   },
   "file_extension": ".py",
   "mimetype": "text/x-python",
   "name": "python",
   "nbconvert_exporter": "python",
   "pygments_lexer": "ipython3",
   "version": "3.9.0"
  },
  "orig_nbformat": 4,
  "vscode": {
   "interpreter": {
    "hash": "85608488f3a17fdaa1b364b9e22bf12e969be5eafa99dc98ce11e328ed13206b"
   }
  }
 },
 "nbformat": 4,
 "nbformat_minor": 2
}
